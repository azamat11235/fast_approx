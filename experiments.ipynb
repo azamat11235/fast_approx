{
 "cells": [
  {
   "cell_type": "markdown",
   "id": "8a7a8d3f",
   "metadata": {},
   "source": [
    "# Fast low-rank nonnegative tensor factorizations in tensor train format"
   ]
  },
  {
   "cell_type": "code",
   "execution_count": 1,
   "id": "6aa78e6a",
   "metadata": {},
   "outputs": [],
   "source": [
    "%reload_ext autoreload\n",
    "%autoreload 2\n",
    "\n",
    "import sys\n",
    "sys.path.append('./src')\n",
    "\n",
    "import numpy as np\n",
    "import scipy as sp\n",
    "import matplotlib\n",
    "import matplotlib.pyplot as plt\n",
    "import scipy.io as spio\n",
    "from time import time\n",
    "\n",
    "from tt import TT"
   ]
  },
  {
   "cell_type": "code",
   "execution_count": 2,
   "id": "361816bf",
   "metadata": {},
   "outputs": [
    {
     "data": {
      "text/plain": [
       "8.952125031870687e-15"
      ]
     },
     "execution_count": 2,
     "metadata": {},
     "output_type": "execute_result"
    }
   ],
   "source": [
    "## TTSVD, GetFullTensor\n",
    "\n",
    "sizes = [10, 20, 20]\n",
    "ranks = [1, 10, 10, 1]\n",
    "\n",
    "tt = TT(sizes=sizes, ranks=ranks, seed=42)\n",
    "full = TT.GetFullTensor(tt.GetCores())\n",
    "np.linalg.norm(full - TT.GetFullTensor(TT.TTSVD(full, [1, 10, 10, 1]))) / np.linalg.norm(full)"
   ]
  },
  {
   "cell_type": "code",
   "execution_count": 3,
   "id": "74b887f4",
   "metadata": {},
   "outputs": [
    {
     "name": "stdout",
     "output_type": "stream",
     "text": [
      "0.0\n"
     ]
    }
   ],
   "source": [
    "## DotProduct\n",
    "\n",
    "tt1 = TT(sizes=sizes, ranks=ranks)\n",
    "full1 = TT.GetFullTensor(tt1.GetCores())\n",
    "\n",
    "tt2 = TT(sizes=sizes, ranks=ranks)\n",
    "full2 = TT.GetFullTensor(tt2.GetCores())\n",
    "\n",
    "print(TT.DotProduct(tt1, tt2) - (full1 * full2).sum())"
   ]
  },
  {
   "cell_type": "code",
   "execution_count": 4,
   "id": "01b1c833",
   "metadata": {},
   "outputs": [
    {
     "name": "stdout",
     "output_type": "stream",
     "text": [
      "4.1032412651917504e-12\n"
     ]
    }
   ],
   "source": [
    "## Hadamard product\n",
    "\n",
    "tt1 = TT(sizes=sizes, ranks=ranks)\n",
    "full1 = TT.GetFullTensor(tt1.GetCores())\n",
    "\n",
    "tt2 = TT(sizes=sizes, ranks=ranks)\n",
    "full2 = TT.GetFullTensor(tt2.GetCores())\n",
    "\n",
    "print(np.linalg.norm(full1 * full2 - TT.GetFullTensor((tt1 * tt2).GetCores())))"
   ]
  },
  {
   "cell_type": "code",
   "execution_count": 5,
   "id": "fe42a810",
   "metadata": {},
   "outputs": [
    {
     "name": "stdout",
     "output_type": "stream",
     "text": [
      "4.802744877930169e-16\n",
      "3.215879113371732e-16\n",
      "9.497529839230413e-16\n"
     ]
    }
   ],
   "source": [
    "## Orthogonalize\n",
    "\n",
    "tt1 = TT(sizes=[5, 7, 8, 10], ranks=[1, 3, 3, 3, 1])\n",
    "tt1.Orthogonalize()\n",
    "\n",
    "t = tt1._cores[0].squeeze(0)\n",
    "print(np.linalg.norm(t.T @ t - np.eye(t.shape[1])))\n",
    "for p in range(1, len(tt1._cores) - 1):\n",
    "    t = t @ tt1._cores[p].reshape(tt1._ranks[p], -1)\n",
    "    t = t.reshape(t.shape[0] * tt1._sizes[p], tt1._ranks[p + 1])\n",
    "    \n",
    "    print(np.linalg.norm(t.T @ t - np.eye(t.shape[1])))"
   ]
  },
  {
   "cell_type": "code",
   "execution_count": 6,
   "id": "2d1563a7",
   "metadata": {},
   "outputs": [
    {
     "name": "stdout",
     "output_type": "stream",
     "text": [
      "6.070726916179205e-16\n",
      "2.020622328642659e-15\n",
      "2.122280863703296e-15\n"
     ]
    }
   ],
   "source": [
    "## Compress\n",
    "\n",
    "tt1 = TT(sizes=[5, 7, 8, 10], ranks=[1, 3, 3, 3, 1])\n",
    "tt1.Compress(1e-6)\n",
    "\n",
    "t = tt1._cores[3].squeeze(2)\n",
    "print(np.linalg.norm(t @ t.T - np.eye(t.shape[0])))\n",
    "for p in range(len(tt1._cores) - 2, 0, -1):\n",
    "    t = tt1._cores[p].reshape(-1, tt1._ranks[p + 1]) @ t\n",
    "    t = t.reshape(tt1._ranks[p], -1)\n",
    "    \n",
    "    print(np.linalg.norm(t @ t.T - np.eye(t.shape[0])))"
   ]
  }
 ],
 "metadata": {
  "kernelspec": {
   "display_name": "Python 3 (ipykernel)",
   "language": "python",
   "name": "python3"
  },
  "language_info": {
   "codemirror_mode": {
    "name": "ipython",
    "version": 3
   },
   "file_extension": ".py",
   "mimetype": "text/x-python",
   "name": "python",
   "nbconvert_exporter": "python",
   "pygments_lexer": "ipython3",
   "version": "3.9.13"
  }
 },
 "nbformat": 4,
 "nbformat_minor": 5
}
