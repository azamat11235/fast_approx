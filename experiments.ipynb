{
 "cells": [
  {
   "cell_type": "markdown",
   "id": "8a7a8d3f",
   "metadata": {},
   "source": [
    "# Fast low-rank nonnegative tensor factorizations in tensor train format"
   ]
  },
  {
   "cell_type": "code",
   "execution_count": 1,
   "id": "6aa78e6a",
   "metadata": {},
   "outputs": [],
   "source": [
    "%reload_ext autoreload\n",
    "%autoreload 2\n",
    "\n",
    "import sys\n",
    "sys.path.append('./src')\n",
    "\n",
    "import numpy as np\n",
    "import scipy as sp\n",
    "import matplotlib\n",
    "import matplotlib.pyplot as plt\n",
    "import scipy.io as spio\n",
    "from time import time\n",
    "\n",
    "from alternating_projections import NLRT, NTTSVD\n",
    "from tensor_train import TensorTrain"
   ]
  }
 ],
 "metadata": {
  "kernelspec": {
   "display_name": "Python 3 (ipykernel)",
   "language": "python",
   "name": "python3"
  },
  "language_info": {
   "codemirror_mode": {
    "name": "ipython",
    "version": 3
   },
   "file_extension": ".py",
   "mimetype": "text/x-python",
   "name": "python",
   "nbconvert_exporter": "python",
   "pygments_lexer": "ipython3",
   "version": "3.9.13"
  }
 },
 "nbformat": 4,
 "nbformat_minor": 5
}
