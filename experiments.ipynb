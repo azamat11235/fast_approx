{
 "cells": [
  {
   "cell_type": "markdown",
   "id": "8a7a8d3f",
   "metadata": {},
   "source": [
    "# Fast low-rank nonnegative tensor factorizations in tensor train format"
   ]
  },
  {
   "cell_type": "code",
   "execution_count": 1,
   "id": "6aa78e6a",
   "metadata": {},
   "outputs": [],
   "source": [
    "%reload_ext autoreload\n",
    "%autoreload 2\n",
    "\n",
    "import sys\n",
    "sys.path.append('./src')\n",
    "\n",
    "import numpy as np\n",
    "import scipy as sp\n",
    "import matplotlib\n",
    "import matplotlib.pyplot as plt\n",
    "import scipy.io as spio\n",
    "from time import time\n",
    "\n",
    "from alternating_projections import NTTSVD\n",
    "from tensor_train import TensorTrain\n",
    "from info import Info"
   ]
  },
  {
   "cell_type": "code",
   "execution_count": 2,
   "id": "9d59c595",
   "metadata": {},
   "outputs": [
    {
     "name": "stdout",
     "output_type": "stream",
     "text": [
      "x86_64\n",
      "Intel(R) Core(TM) i7-9750H CPU @ 2.60GHz\n",
      "CPU(s): 6\n",
      "RAM:    16 GB\n"
     ]
    }
   ],
   "source": [
    "%%bash\n",
    "uname -m\n",
    "sysctl -n machdep.cpu.brand_string\n",
    "echo -n \"CPU(s): \" && sysctl -n hw.physicalcpu\n",
    "echo -n \"RAM:    \" && sysctl -n hw.memsize | awk '{print $0/1073741824\" GB\"}'"
   ]
  },
  {
   "cell_type": "markdown",
   "id": "27230d39",
   "metadata": {},
   "source": [
    "# 1 Hilbert"
   ]
  },
  {
   "cell_type": "code",
   "execution_count": 3,
   "id": "86f71016",
   "metadata": {},
   "outputs": [],
   "source": [
    "sizes = [128, 128, 128]\n",
    "ranks = [1, 3, 2, 1]\n",
    "\n",
    "a = np.empty(shape=sizes)\n",
    "\n",
    "m, n, l = a.shape\n",
    "for i in range(m):\n",
    "    for j in range(n):\n",
    "        for k in range(l):\n",
    "            a[i, j, k] = 1 / ((i+1) + (j+1) + (k+1) - 3 + 1)"
   ]
  },
  {
   "cell_type": "code",
   "execution_count": 4,
   "id": "6a56265e",
   "metadata": {},
   "outputs": [
    {
     "name": "stdout",
     "output_type": "stream",
     "text": [
      "negative elements (frobenius): 0.09767864271860334\n",
      "negative elements (density): 6.341934204101562e-05\n",
      "min element: -0.016309723185813894\n"
     ]
    }
   ],
   "source": [
    "# negative elements after TTSVD\n",
    "full = TensorTrain.GetFullTensor(TensorTrain.TTSVD(a, ranks))\n",
    "print('negative elements (frobenius):', np.linalg.norm(full[full < 0]))\n",
    "print('negative elements (density):', (full < 0).sum() / np.prod(full.shape))\n",
    "print('min element:', full.min())"
   ]
  },
  {
   "cell_type": "markdown",
   "id": "a179d2d3",
   "metadata": {},
   "source": [
    "## 1.1 NTTSVD"
   ]
  },
  {
   "cell_type": "code",
   "execution_count": 5,
   "id": "abb50dc9",
   "metadata": {},
   "outputs": [
    {
     "name": "stdout",
     "output_type": "stream",
     "text": [
      "41.58865809440613 s.\n",
      "relative error: 0.07882071085890664\n",
      "negative elements (frobenius): 8.624020822013567e-16\n",
      "negative elements (density): 1.9073486328125e-06\n"
     ]
    }
   ],
   "source": [
    "t0 = time()\n",
    "\n",
    "cores = NTTSVD(a, ranks=ranks, itersNum=250)\n",
    "\n",
    "print(time() - t0, 's.')\n",
    "full = TensorTrain.GetFullTensor(cores=cores)\n",
    "print('relative error:', np.linalg.norm(a - full) / np.linalg.norm(a))\n",
    "print('negative elements (frobenius):', np.linalg.norm(full[full < 0]))\n",
    "print('negative elements (density):', (full < 0).sum() / np.prod(full.shape))"
   ]
  },
  {
   "cell_type": "markdown",
   "id": "1c9da285",
   "metadata": {},
   "source": [
    "## 1.2 Fast NLRT"
   ]
  },
  {
   "cell_type": "markdown",
   "id": "29eecc40",
   "metadata": {},
   "source": [
    "## 1.2.1 Add the exact minimum element to the tensor"
   ]
  },
  {
   "cell_type": "code",
   "execution_count": 15,
   "id": "da26a513",
   "metadata": {},
   "outputs": [
    {
     "name": "stdout",
     "output_type": "stream",
     "text": [
      "negative elements (frobenius): 0.09767864271860334\n",
      "negative elements (density): 6.341934204101562e-05\n",
      "min element: -0.016309723185813894\n"
     ]
    }
   ],
   "source": [
    "# negative elements after TTSVD\n",
    "full = TensorTrain.GetFullTensor(TensorTrain.TTSVD(a, ranks))\n",
    "print('negative elements (frobenius):', np.linalg.norm(full[full < 0]))\n",
    "print('negative elements (density):', (full < 0).sum() / np.prod(full.shape))\n",
    "print('min element:', full.min())"
   ]
  },
  {
   "cell_type": "code",
   "execution_count": 16,
   "id": "4b08e557",
   "metadata": {},
   "outputs": [
    {
     "name": "stdout",
     "output_type": "stream",
     "text": [
      "maxElement (true/found): 0.632823587962253 0.6326044627837303\n",
      "x._ranks [1, 2, 1, 1]\n",
      "minElement (true/found): -0.016309723185813894 -0.015152407292954528\n",
      "x._ranks [1, 4, 4, 1]\n",
      "\n",
      "relative error: 2.0633348472272752\n",
      "negative elements (frobenius): 0.002633812400856169\n",
      "negative elements (density): 6.198883056640625e-06\n"
     ]
    }
   ],
   "source": [
    "# power method\n",
    "itersNum1 = 10\n",
    "itersNum2 = 250\n",
    "\n",
    "info = Info(label='Fast NLRTA')\n",
    "\n",
    "# TTSVD\n",
    "tt = TensorTrain(cores=TensorTrain.TTSVD(a, ranks))\n",
    "# searching for the minimum element of the tensor\n",
    "minElement = tt.GetMinElement(algorithm='power', stage1=itersNum1, stage2=itersNum2, debug=True)\n",
    "# correct the tensor elements\n",
    "rank1Tensor = TensorTrain.GetRank1Tensor(tt.GetSizes())\n",
    "rank1Tensor._cores[0] *= -minElement\n",
    "tt = tt + rank1Tensor\n",
    "# print result\n",
    "print()\n",
    "info.ProcessTensorTrain(originalFullTensor=a, tt=tt)\n",
    "info.PrintCurrentInfo()"
   ]
  },
  {
   "cell_type": "markdown",
   "id": "b48d1527",
   "metadata": {},
   "source": [
    "## 1.2.2 Add func(found_minimum) to the tensor"
   ]
  },
  {
   "cell_type": "markdown",
   "id": "a3371b18",
   "metadata": {},
   "source": [
    "### func(found_minimum) = found_minimum / 50"
   ]
  },
  {
   "cell_type": "code",
   "execution_count": 6,
   "id": "d30062fc",
   "metadata": {
    "scrolled": true
   },
   "outputs": [
    {
     "name": "stdout",
     "output_type": "stream",
     "text": [
      "=====> iteration: 0\n",
      "maxElement (true/found): 0.632823587962253 0.6326044627837303\n",
      "x._ranks [1, 2, 1, 1]\n",
      "minElement (true/found): -0.016309723185813894 -0.015152407292954528\n",
      "x._ranks [1, 4, 4, 1]\n",
      "\n",
      "relative error: 0.08618887625091087\n",
      "negative elements (frobenius): 0.09501231298489164\n",
      "negative elements (density): 6.198883056640625e-05\n",
      "\n",
      "=====> iteration: 1\n",
      "maxElement (true/found): 0.6331266361081122 0.6329065994300468\n",
      "x._ranks [1, 2, 1, 1]\n",
      "minElement (true/found): -0.016006675039954805 -0.014849365274161475\n",
      "x._ranks [1, 4, 4, 1]\n",
      "\n",
      "relative error: 0.11035541646167628\n",
      "negative elements (frobenius): 0.0924498727458646\n",
      "negative elements (density): 5.9604644775390625e-05\n",
      "\n",
      "=====> iteration: 2\n",
      "maxElement (true/found): 0.6334236234135954 0.6332026904908068\n",
      "x._ranks [1, 2, 1, 1]\n",
      "minElement (true/found): -0.015709687734471574 -0.014552383993112983\n",
      "x._ranks [1, 4, 4, 1]\n",
      "\n",
      "relative error: 0.14146013805737745\n",
      "negative elements (frobenius): 0.08998740783832244\n",
      "negative elements (density): 5.7697296142578125e-05\n",
      "\n",
      "=====> iteration: 3\n",
      "maxElement (true/found): 0.6337146710934576 0.6334928570151178\n",
      "x._ranks [1, 2, 1, 1]\n",
      "minElement (true/found): -0.015418640054609314 -0.014261342236173036\n",
      "x._ranks [1, 4, 4, 1]\n",
      "\n",
      "relative error: 0.17532536691813905\n",
      "negative elements (frobenius): 0.08762096109696779\n",
      "negative elements (density): 5.5789947509765625e-05\n",
      "\n",
      "=====> iteration: 4\n",
      "maxElement (true/found): 0.633999897938181 0.6337772187390504\n",
      "x._ranks [1, 2, 1, 1]\n",
      "minElement (true/found): -0.015133413209885854 -0.013976121206507264\n",
      "x._ranks [1, 4, 4, 1]\n",
      "\n",
      "relative error: 0.21019894290709817\n",
      "negative elements (frobenius): 0.085346452873669\n",
      "negative elements (density): 5.340576171875e-05\n",
      "\n",
      "=====> iteration: 5\n",
      "maxElement (true/found): 0.6342794203623111 0.6340558898983351\n",
      "x._ranks [1, 2, 1, 1]\n",
      "minElement (true/found): -0.014853890785755709 -0.013696604504219057\n",
      "x._ranks [1, 4, 4, 1]\n",
      "\n",
      "relative error: 0.24530471346019891\n",
      "negative elements (frobenius): 0.08315967700281368\n",
      "negative elements (density): 5.14984130859375e-05\n",
      "\n",
      "=====> iteration: 6\n",
      "maxElement (true/found): 0.6345533524523955 0.6343289852856713\n",
      "x._ranks [1, 2, 1, 1]\n",
      "minElement (true/found): -0.014579958695671327 -0.013422678038020663\n",
      "x._ranks [1, 4, 4, 1]\n",
      "\n",
      "relative error: 0.2802659575870123\n",
      "negative elements (frobenius): 0.08105637499346853\n",
      "negative elements (density): 4.9114227294921875e-05\n",
      "\n",
      "=====> iteration: 7\n",
      "maxElement (true/found): 0.634821806013156 0.634596620783029\n",
      "x._ranks [1, 2, 1, 1]\n",
      "minElement (true/found): -0.014311505134910913 -0.013154229975786969\n",
      "x._ranks [1, 4, 4, 1]\n",
      "\n",
      "relative error: 0.3148851751674548\n",
      "negative elements (frobenius): 0.07903207000153302\n",
      "negative elements (density): 4.7206878662109375e-05\n",
      "\n",
      "=====> iteration: 8\n",
      "maxElement (true/found): 0.6350848906126717 0.6348588973214984\n",
      "x._ranks [1, 2, 1, 1]\n",
      "minElement (true/found): -0.014048420535395173 -0.012891150807497365\n",
      "x._ranks [1, 4, 4, 1]\n",
      "\n",
      "relative error: 0.34905300559064983\n",
      "negative elements (frobenius): 0.077082309255161\n",
      "negative elements (density): 4.4345855712890625e-05\n",
      "\n",
      "=====> iteration: 9\n",
      "maxElement (true/found): 0.6353427136288217 0.635115926259514\n",
      "x._ranks [1, 2, 1, 1]\n",
      "minElement (true/found): -0.013790597519245227 -0.012633333128519442\n",
      "x._ranks [1, 4, 4, 1]\n",
      "\n",
      "relative error: 0.38270694619352863\n",
      "negative elements (frobenius): 0.0752023197239303\n",
      "negative elements (density): 4.2438507080078125e-05\n",
      "\n",
      "=====> iteration: 10\n",
      "maxElement (true/found): 0.6355953802913921 0.6353678126331618\n",
      "x._ranks [1, 2, 1, 1]\n",
      "minElement (true/found): -0.013537930856674837 -0.012380671710374713\n",
      "x._ranks [1, 4, 4, 1]\n",
      "\n",
      "relative error: 0.415811047898888\n",
      "negative elements (frobenius): 0.07338744307821543\n",
      "negative elements (density): 3.910064697265625e-05\n",
      "\n",
      "=====> iteration: 11\n",
      "maxElement (true/found): 0.6358429937255996 0.6356146593739871\n",
      "x._ranks [1, 2, 1, 1]\n",
      "minElement (true/found): -0.013290317422467344 -0.012133063429149993\n",
      "x._ranks [1, 4, 4, 1]\n",
      "\n",
      "relative error: 0.44834521110275444\n",
      "negative elements (frobenius): 0.07163259084133691\n",
      "negative elements (density): 3.6716461181640625e-05\n",
      "\n",
      "=====> iteration: 12\n",
      "maxElement (true/found): 0.6360856549941826 0.6358565673513249\n",
      "x._ranks [1, 2, 1, 1]\n",
      "minElement (true/found): -0.013047656153884344 -0.011890407223411836\n",
      "x._ranks [1, 4, 4, 1]\n",
      "\n",
      "relative error: 0.480299204021727\n",
      "negative elements (frobenius): 0.06993285996021512\n",
      "negative elements (density): 3.337860107421875e-05\n",
      "\n",
      "=====> iteration: 13\n",
      "maxElement (true/found): 0.6363234631386508 0.6360936354137731\n",
      "x._ranks [1, 2, 1, 1]\n",
      "minElement (true/found): -0.012809848009416107 -0.011652604052948434\n",
      "x._ranks [1, 4, 4, 1]\n",
      "\n",
      "relative error: 0.5116691517097995\n",
      "negative elements (frobenius): 0.06828283047765386\n",
      "negative elements (density): 3.0994415283203125e-05\n",
      "\n",
      "=====> iteration: 14\n",
      "maxElement (true/found): 0.6365565152197098 0.6363259604298033\n",
      "x._ranks [1, 2, 1, 1]\n",
      "minElement (true/found): -0.012576795928357138 -0.011419556858350277\n",
      "x._ranks [1, 4, 4, 1]\n",
      "\n",
      "relative error: 0.5424553874869956\n",
      "negative elements (frobenius): 0.06667759394196343\n",
      "negative elements (density): 2.9087066650390625e-05\n",
      "\n",
      "=====> iteration: 15\n",
      "maxElement (true/found): 0.6367849063568768 0.6365536373275407\n",
      "x._ranks [1, 2, 1, 1]\n",
      "minElement (true/found): -0.012348404791190133 -0.011191170521390292\n",
      "x._ranks [1, 4, 4, 1]\n",
      "\n",
      "relative error: 0.5726610903496822\n",
      "negative elements (frobenius): 0.0651133360367303\n",
      "negative elements (density): 2.765655517578125e-05\n",
      "\n",
      "=====> iteration: 16\n",
      "maxElement (true/found): 0.6370087297673046 0.6367767622538629\n",
      "x._ranks [1, 2, 1, 1]\n",
      "minElement (true/found): -0.012124581380762327 -0.010967351805226788\n",
      "x._ranks [1, 4, 4, 1]\n",
      "\n",
      "relative error: 0.6022913938130857\n",
      "negative elements (frobenius): 0.06358756602687822\n",
      "negative elements (density): 2.7179718017578125e-05\n",
      "\n",
      "=====> iteration: 17\n",
      "maxElement (true/found): 0.6372280768034091 0.6369954203028211\n",
      "x._ranks [1, 2, 1, 1]\n",
      "minElement (true/found): -0.01190523434465779 -0.010748009399510483\n",
      "x._ranks [1, 4, 4, 1]\n",
      "\n",
      "relative error: 0.6313527875968097\n",
      "negative elements (frobenius): 0.06209888289560133\n",
      "negative elements (density): 2.7179718017578125e-05\n",
      "\n",
      "=====> iteration: 18\n",
      "maxElement (true/found): 0.6374430369913993 0.6372097037684542\n",
      "x._ranks [1, 2, 1, 1]\n",
      "minElement (true/found): -0.01169027415666758 -0.01053305375943081\n",
      "x._ranks [1, 4, 4, 1]\n",
      "\n",
      "relative error: 0.6598527060851196\n",
      "negative elements (frobenius): 0.060646607229206555\n",
      "negative elements (density): 2.6702880859375e-05\n",
      "\n",
      "=====> iteration: 19\n",
      "maxElement (true/found): 0.6376536980665879 0.6374197001994915\n",
      "x._ranks [1, 2, 1, 1]\n",
      "minElement (true/found): -0.011479613081478964 -0.010322397150933083\n",
      "x._ranks [1, 4, 4, 1]\n",
      "\n",
      "relative error: 0.6877992398476319\n",
      "negative elements (frobenius): 0.05922968682194775\n",
      "negative elements (density): 2.6702880859375e-05\n",
      "\n",
      "127.09807109832764 s.\n"
     ]
    }
   ],
   "source": [
    "itersNum = 20\n",
    "# power method\n",
    "itersNum1 = 10\n",
    "itersNum2 = 250\n",
    "\n",
    "info = Info(label='Fast NLRTA')\n",
    "\n",
    "t0 = time()\n",
    "\n",
    "tt = TensorTrain(cores=TensorTrain.TTSVD(a, ranks))\n",
    "for i in range(itersNum):\n",
    "    print('=====> iteration:', i)\n",
    "    minElement = tt.GetMinElement(algorithm='power', stage1=itersNum1, stage2=itersNum2, debug=True)\n",
    "\n",
    "    rank1Tensor = TensorTrain.GetRank1Tensor(tt.GetSizes())\n",
    "    rank1Tensor._cores[0] *= -minElement / 50\n",
    "    tt = tt + rank1Tensor\n",
    "    \n",
    "    info.ProcessTensorTrain(originalFullTensor=a, tt=tt)\n",
    "    print()\n",
    "    info.PrintCurrentInfo()\n",
    "    print()\n",
    "\n",
    "print(time() - t0, 's.')"
   ]
  },
  {
   "cell_type": "code",
   "execution_count": 7,
   "id": "3d48f24d",
   "metadata": {},
   "outputs": [
    {
     "data": {
      "image/png": "[encoded data removed]",
      "text/plain": [
       "<Figure size 800x400 with 1 Axes>"
      ]
     },
     "metadata": {},
     "output_type": "display_data"
    }
   ],
   "source": [
    "info.PlotNegativeElements()"
   ]
  },
  {
   "cell_type": "code",
   "execution_count": 8,
   "id": "c7c3246e",
   "metadata": {},
   "outputs": [
    {
     "data": {
      "image/png": "[encoded data removed]",
      "text/plain": [
       "<Figure size 800x400 with 1 Axes>"
      ]
     },
     "metadata": {},
     "output_type": "display_data"
    }
   ],
   "source": [
    "info.PlotErrors()"
   ]
  },
  {
   "cell_type": "code",
   "execution_count": 9,
   "id": "d3cdccdf",
   "metadata": {},
   "outputs": [
    {
     "name": "stdout",
     "output_type": "stream",
     "text": [
      "127.12432289123535 s.\n"
     ]
    }
   ],
   "source": [
    "# time\n",
    "\n",
    "t0 = time()\n",
    "\n",
    "tt = TensorTrain(cores=TensorTrain.TTSVD(a, ranks))\n",
    "for i in range(itersNum):\n",
    "    minElement = tt.GetMinElement(algorithm='power', stage1=itersNum1, stage2=itersNum2)\n",
    "\n",
    "    rank1Tensor = TensorTrain.GetRank1Tensor(tt.GetSizes())\n",
    "    rank1Tensor._cores[0] *= -minElement / 50\n",
    "    tt = tt + rank1Tensor\n",
    "    \n",
    "print(time() - t0, 's.')"
   ]
  }
 ],
 "metadata": {
  "kernelspec": {
   "display_name": "Python 3 (ipykernel)",
   "language": "python",
   "name": "python3"
  },
  "language_info": {
   "codemirror_mode": {
    "name": "ipython",
    "version": 3
   },
   "file_extension": ".py",
   "mimetype": "text/x-python",
   "name": "python",
   "nbconvert_exporter": "python",
   "pygments_lexer": "ipython3",
   "version": "3.9.13"
  }
 },
 "nbformat": 4,
 "nbformat_minor": 5
}
