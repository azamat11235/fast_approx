{
 "cells": [
  {
   "cell_type": "markdown",
   "id": "8a7a8d3f",
   "metadata": {},
   "source": [
    "# Fast low-rank nonnegative tensor factorizations in tensor train format"
   ]
  },
  {
   "cell_type": "code",
   "execution_count": 1,
   "id": "6aa78e6a",
   "metadata": {},
   "outputs": [],
   "source": [
    "%reload_ext autoreload\n",
    "%autoreload 2\n",
    "\n",
    "import sys\n",
    "sys.path.append('./src')\n",
    "\n",
    "import numpy as np\n",
    "import scipy as sp\n",
    "import matplotlib\n",
    "import matplotlib.pyplot as plt\n",
    "import scipy.io as spio\n",
    "from time import time\n",
    "\n",
    "from alternating_projections import NTTSVD\n",
    "from tensor_train import TensorTrain"
   ]
  },
  {
   "cell_type": "code",
   "execution_count": 2,
   "id": "9d59c595",
   "metadata": {},
   "outputs": [
    {
     "name": "stdout",
     "output_type": "stream",
     "text": [
      "x86_64\n",
      "Intel(R) Core(TM) i7-9750H CPU @ 2.60GHz\n",
      "CPU(s): 6\n",
      "RAM:    16 GB\n"
     ]
    }
   ],
   "source": [
    "%%bash\n",
    "uname -m\n",
    "sysctl -n machdep.cpu.brand_string\n",
    "echo -n \"CPU(s): \" && sysctl -n hw.physicalcpu\n",
    "echo -n \"RAM:    \" && sysctl -n hw.memsize | awk '{print $0/1073741824\" GB\"}'"
   ]
  },
  {
   "cell_type": "markdown",
   "id": "27230d39",
   "metadata": {},
   "source": [
    "# 1 Hilbert"
   ]
  },
  {
   "cell_type": "code",
   "execution_count": 3,
   "id": "86f71016",
   "metadata": {},
   "outputs": [],
   "source": [
    "sizes = [128, 128, 128]\n",
    "ranks = [1, 3, 2, 1]\n",
    "\n",
    "a = np.empty(shape=sizes)\n",
    "\n",
    "m, n, l = a.shape\n",
    "for i in range(m):\n",
    "    for j in range(n):\n",
    "        for k in range(l):\n",
    "            a[i, j, k] = 1 / ((i+1) + (j+1) + (k+1) - 3 + 1)"
   ]
  },
  {
   "cell_type": "code",
   "execution_count": 4,
   "id": "6a56265e",
   "metadata": {},
   "outputs": [
    {
     "name": "stdout",
     "output_type": "stream",
     "text": [
      "negative elements (frobenius): 0.09767864271860334\n",
      "negative elements (density): 6.341934204101562e-05\n",
      "min element: -0.016309723185813894\n"
     ]
    }
   ],
   "source": [
    "# negative elements after TTSVD\n",
    "full = TensorTrain.GetFullTensor(TensorTrain.TTSVD(a, ranks))\n",
    "print('negative elements (frobenius):', np.linalg.norm(full[full < 0]))\n",
    "print('negative elements (density):', (full < 0).sum() / np.prod(full.shape))\n",
    "print('min element:', full.min())"
   ]
  },
  {
   "cell_type": "code",
   "execution_count": 5,
   "id": "abb50dc9",
   "metadata": {},
   "outputs": [
    {
     "name": "stdout",
     "output_type": "stream",
     "text": [
      "49.58812594413757 s.\n",
      "relative error: 0.07882071085890664\n",
      "negative elements (frobenius): 8.624020822013567e-16\n",
      "negative elements (density): 1.9073486328125e-06\n"
     ]
    }
   ],
   "source": [
    "# NTTSVD\n",
    "\n",
    "t0 = time()\n",
    "\n",
    "cores = NTTSVD(a, ranks=ranks, itersNum=250)\n",
    "\n",
    "print(time() - t0, 's.')\n",
    "full = TensorTrain.GetFullTensor(cores=cores)\n",
    "print('relative error:', np.linalg.norm(a - full) / np.linalg.norm(a))\n",
    "print('negative elements (frobenius):', np.linalg.norm(full[full < 0]))\n",
    "print('negative elements (density):', (full < 0).sum() / np.prod(full.shape))"
   ]
  },
  {
   "cell_type": "code",
   "execution_count": 6,
   "id": "bc022197",
   "metadata": {},
   "outputs": [
    {
     "name": "stdout",
     "output_type": "stream",
     "text": [
      "23.16606307029724 s.\n",
      "relative error: 0.2978183768899082\n",
      "negative elements (frobenius): 0.08002339083190409\n",
      "negative elements (density): 4.8160552978515625e-05\n"
     ]
    }
   ],
   "source": [
    "# fast_nlrt\n",
    "\n",
    "t0 = time()\n",
    "\n",
    "tt = TensorTrain(cores=TensorTrain.TTSVD(a, ranks))\n",
    "minElement = tt.GetMinElement()\n",
    "\n",
    "cores = []\n",
    "for p in range(len(tt.GetSizes())):\n",
    "    cores.append(np.ones((1, tt.GetSizes()[p], 1)))\n",
    "cores[0] *= minElement\n",
    "ttWithRanks1 = TensorTrain(cores=cores)\n",
    "tt = tt + ttWithRanks1\n",
    "print(time() - t0, 's.')\n",
    "\n",
    "full = TensorTrain.GetFullTensor(cores=tt.GetCores())\n",
    "print('relative error:', np.linalg.norm(a - full) / np.linalg.norm(a))\n",
    "print('negative elements (frobenius):', np.linalg.norm(full[full < 0]))\n",
    "print('negative elements (density):', (full < 0).sum() / np.prod(full.shape))"
   ]
  },
  {
   "cell_type": "code",
   "execution_count": 7,
   "id": "610d11b9",
   "metadata": {
    "scrolled": true
   },
   "outputs": [
    {
     "data": {
      "text/plain": [
       "0.0021318819125355688"
      ]
     },
     "execution_count": 7,
     "metadata": {},
     "output_type": "execute_result"
    }
   ],
   "source": [
    "# minElement (ALS)\n",
    "minElement"
   ]
  }
 ],
 "metadata": {
  "kernelspec": {
   "display_name": "Python 3 (ipykernel)",
   "language": "python",
   "name": "python3"
  },
  "language_info": {
   "codemirror_mode": {
    "name": "ipython",
    "version": 3
   },
   "file_extension": ".py",
   "mimetype": "text/x-python",
   "name": "python",
   "nbconvert_exporter": "python",
   "pygments_lexer": "ipython3",
   "version": "3.9.13"
  }
 },
 "nbformat": 4,
 "nbformat_minor": 5
}
